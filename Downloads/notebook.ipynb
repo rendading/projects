{
  "cells": [
    {
      "metadata": {
        "_uuid": "c8a344195f7b526a2623333090a8435fa15fc822",
        "_cell_guid": "145d70a7-38d3-4fb3-9b88-c9cb0da8d049",
        "trusted": false,
        "collapsed": true
      },
      "cell_type": "code",
      "source": "# This Python 3 environment comes with many helpful analytics libraries installed\n# It is defined by the kaggle/python docker image: https://github.com/kaggle/docker-python\n# For example, here's several helpful packages to load in \n\nimport numpy as np # linear algebra\nimport pandas as pd # data processing, CSV file I/O (e.g. pd.read_csv)\n\n# Input data files are available in the \"../input/\" directory.\n# For example, running this (by clicking run or pressing Shift+Enter) will list the files in the input directory\n\nfrom subprocess import check_output\nprint(check_output([\"ls\", \"../input\"]).decode(\"utf8\"))\n\n# Any results you write to the current directory are saved as output.",
      "execution_count": null,
      "outputs": []
    },
    {
      "metadata": {
        "_uuid": "4163b718ac619c4287aee5166fb6b4f5cbfe01b5",
        "_cell_guid": "d4136a01-c4c5-4a34-8646-35cb0623f00c",
        "collapsed": true,
        "trusted": false
      },
      "cell_type": "code",
      "source": "import matplotlib as mpl\nimport matplotlib.pyplot as plt\nimport pandas as pd\nimport seaborn as sns\nimport sys\n\n\n%matplotlib inline",
      "execution_count": null,
      "outputs": []
    },
    {
      "metadata": {
        "_uuid": "ad15ff1c2ed1d4ab0935e94724e7f950f0fdd893",
        "_cell_guid": "0305c97e-3c46-4358-bbbe-c17d1ce2aa07",
        "collapsed": true,
        "trusted": false
      },
      "cell_type": "code",
      "source": "cereal = pd.read_csv('../input/80-cereals/cereal.csv')",
      "execution_count": null,
      "outputs": []
    },
    {
      "metadata": {
        "_uuid": "7c4ec2daf0f8329c9cc9f9c0b7ccfb44183fcfc0",
        "_cell_guid": "a8191742-3815-4b30-988e-8c0bb58e137e",
        "trusted": false,
        "collapsed": true
      },
      "cell_type": "code",
      "source": "# Plot \n\nfig, ax = plt.subplots()\nfig.suptitle('Cereal Calories', fontsize=10, fontweight='bold')\n\n\nplt.scatter(cereal['sugars'], cereal['calories'], s=cereal.rating, alpha = 0.4)\nplt.style.use('seaborn-notebook')\nplt.rc('font', family='serif')\n\nax.spines['right'].set_visible(False)\nax.spines['top'].set_visible(False)\nax.set_ylabel('Calories', fontsize=8)\nax.set_xlabel('Sugars', fontsize=8)\nax.yaxis.set_ticks_position('left')\nax.xaxis.set_ticks_position('bottom')\nax.yaxis.grid(True)\nax.legend(loc=0)\nplt.show()",
      "execution_count": null,
      "outputs": []
    },
    {
      "metadata": {
        "_uuid": "0b9fba1257d95ea4b7357d77c7d63fd040a281ee",
        "_cell_guid": "40c31c81-6649-4623-b94d-0bd11dd386ea",
        "trusted": false,
        "collapsed": true
      },
      "cell_type": "code",
      "source": "fig, ax = plt.subplots()\nax.hist(cereal['protein'], bins=25)\nax.set_title('Histogram of protein')\nplt.show()",
      "execution_count": null,
      "outputs": []
    },
    {
      "metadata": {
        "_uuid": "acf504be6c48f9af0f643a581f48cd7e9dfd2a84",
        "_cell_guid": "c2d52818-0e14-4af9-aed3-b2487cc95f36",
        "trusted": false,
        "collapsed": true
      },
      "cell_type": "code",
      "source": "# code to create \ndef histo(variable):\n    fig, ax = plt.subplots()\n    ax.hist(cereal[variable], bins=25)\n    ax.set_title('Histogram of ' + str(variable), loc='left', fontsize=14)\n    ax.set_xlabel(str(variable))\n    ax.set_ylabel('Number of Cereals')\n    return fig, ax",
      "execution_count": null,
      "outputs": []
    },
    {
      "metadata": {
        "_uuid": "bf7d955be74c48fb9e8095138b8307a3be4cc44a",
        "_cell_guid": "e0ecb32f-31d7-4496-89ad-762a4328700b",
        "trusted": false,
        "collapsed": true
      },
      "cell_type": "code",
      "source": "histo('protein')",
      "execution_count": null,
      "outputs": []
    },
    {
      "metadata": {
        "_uuid": "9d3dac7760d335a24be01fda5d2508774226e7af",
        "_cell_guid": "7efb13bd-e3c2-4460-99cd-054c68a32e05",
        "collapsed": true,
        "trusted": false
      },
      "cell_type": "code",
      "source": "# code to create \ndef histo(variable='__'):\n    fig, ax = plt.subplots()\n    df[variable].plot(ax=ax, kind='barh', alpha=0.5)\n    ax.set_title('Cereals', loc='left', fontsize=14)\n    ax.set_xlabel('Sugars')\n    ax.set_ylabel('')\n    return fig, ax",
      "execution_count": null,
      "outputs": []
    },
    {
      "metadata": {
        "_uuid": "f51d1f691229ee87120a17e0dadad33857a0cb99",
        "_cell_guid": "9af5fc4a-20f0-49f5-840b-193c263aacc8",
        "trusted": false,
        "collapsed": true
      },
      "cell_type": "code",
      "source": "cereal.head(5)",
      "execution_count": null,
      "outputs": []
    },
    {
      "metadata": {
        "_uuid": "7fd713ec96c5b290523466093baf3f59eb5c0d0a",
        "_cell_guid": "959694a6-195c-411d-af01-ceb97ec0c8b8",
        "trusted": false,
        "collapsed": true
      },
      "cell_type": "code",
      "source": "fig, ax = plt.subplots(1, 2, sharey=True, figsize = (12, 4))\n\nsns.kdeplot(cereal['calories'][cereal['rating'] > 50], ax=ax[0], label='smooth')\nax[0].hist(cereal['calories'][cereal['rating'] > 50], bins=25, alpha=0.25, normed=True, label=\"calories\")\nax[0].set_title('High Rating Cereals')\nax[0].legend()\nsns.kdeplot(cereal['calories'][cereal['rating'] <= 50], ax=ax[1], label='smooth')\nax[1].hist(cereal['calories'][cereal['rating'] <= 50], bins=25, alpha=0.25, normed=True, label=\"calories\")\nax[1].set_title('Low Rating Cereals')\nax[1].legend()\n\nfig.suptitle(\"Kernel Density of Calories with Histogram\", y=1.03)\nplt.show()",
      "execution_count": null,
      "outputs": []
    },
    {
      "metadata": {
        "_uuid": "b26ce7ed6376b2d3270d535f251a2501bfc9b543",
        "_cell_guid": "6a917f0a-377e-444c-b052-1b25f54622b9",
        "trusted": true
      },
      "cell_type": "code",
      "source": "\n\ngit remote add origin https://github.com/rendading/projects.git\ngit push -u origin master",
      "execution_count": 1,
      "outputs": [
        {
          "output_type": "error",
          "ename": "SyntaxError",
          "evalue": "invalid syntax (<ipython-input-1-e06e2a91add0>, line 3)",
          "traceback": [
            "\u001b[0;36m  File \u001b[0;32m\"<ipython-input-1-e06e2a91add0>\"\u001b[0;36m, line \u001b[0;32m3\u001b[0m\n\u001b[0;31m    git remote add origin https://github.com/rendading/projects.git\u001b[0m\n\u001b[0m             ^\u001b[0m\n\u001b[0;31mSyntaxError\u001b[0m\u001b[0;31m:\u001b[0m invalid syntax\n"
          ]
        }
      ]
    }
  ],
  "metadata": {
    "language_info": {
      "name": "python",
      "version": "3.6.3",
      "mimetype": "text/x-python",
      "codemirror_mode": {
        "name": "ipython",
        "version": 3
      },
      "pygments_lexer": "ipython3",
      "nbconvert_exporter": "python",
      "file_extension": ".py"
    },
    "kernelspec": {
      "display_name": "Python 3",
      "language": "python",
      "name": "python3"
    }
  },
  "nbformat": 4,
  "nbformat_minor": 1
}